{
 "cells": [
  {
   "cell_type": "markdown",
   "metadata": {},
   "source": [
    "**Noughts and Crosses game. Run the code, choose easy or hard mode and play the game!**"
   ]
  },
  {
   "cell_type": "code",
   "execution_count": null,
   "metadata": {},
   "outputs": [],
   "source": [
    "from turtle import *\n",
    "import random"
   ]
  },
  {
   "cell_type": "code",
   "execution_count": null,
   "metadata": {},
   "outputs": [],
   "source": [
    "def check_rows(rows):\n",
    "    for row in rows:\n",
    "        summ = 0\n",
    "        elems = 0\n",
    "        for el in row:\n",
    "            if el:\n",
    "                summ += el[0]\n",
    "                elems += 1\n",
    "        if (summ == 3) or (summ == 0 and elems == 3):\n",
    "            return True\n",
    "    return False"
   ]
  },
  {
   "cell_type": "code",
   "execution_count": null,
   "metadata": {},
   "outputs": [],
   "source": [
    "def are_no_cells():\n",
    "    for row in board:\n",
    "        for el in row:\n",
    "            if not el:\n",
    "                return False\n",
    "    return True"
   ]
  },
  {
   "cell_type": "code",
   "execution_count": null,
   "metadata": {},
   "outputs": [],
   "source": [
    "def reflect_cell(cell):\n",
    "    reflected = []\n",
    "    for el in cell:\n",
    "        if el == 0:\n",
    "            reflected.append(2)\n",
    "        else:\n",
    "            reflected.append(0)\n",
    "    return reflected "
   ]
  },
  {
   "cell_type": "code",
   "execution_count": null,
   "metadata": {},
   "outputs": [],
   "source": [
    "def make_o_turn(possible_cells):\n",
    "    'returns random cell of o-player'\n",
    "    return random.choice(possible_cells) "
   ]
  },
  {
   "cell_type": "code",
   "execution_count": null,
   "metadata": {},
   "outputs": [],
   "source": [
    "def make_move_computer_player(turn):\n",
    "    global current_cell\n",
    "    cell = []   \n",
    "    corner_cells = [[0,0], [0,2], [2,0], [2,2]]\n",
    "    if turn == 1:\n",
    "        if x_cells[0] in corner_cells:\n",
    "            if x_cells[0][0] == 0:\n",
    "                x_coord = 2\n",
    "            else: \n",
    "                x_coord = 0\n",
    "            cell = [x_coord ,x_cells[0][1]]\n",
    "            current_cell = reflect_cell(cell)\n",
    "        else:    \n",
    "            while not cell:\n",
    "                potencial_cell = random.choice(corner_cells)\n",
    "                if potencial_cell in free_cells:\n",
    "                    cell = potencial_cell\n",
    "                    current_cell = reflect_cell(cell)\n",
    "    elif turn == 2:\n",
    "        if current_cell in free_cells:\n",
    "            cell = current_cell\n",
    "        elif x_cells[0] in corner_cells and x_cells[1] in corner_cells:\n",
    "            #if both x's in same horizontal line\n",
    "            if x_cells[0][0] == x_cells[1][0]:\n",
    "                # put o in the middle on this line\n",
    "                cell = [x_cells[0][0], 1]\n",
    "            else:\n",
    "                cell = [1, x_cells[0][1]]\n",
    "        else:\n",
    "            while not cell:\n",
    "                potencial_cell = random.choice(corner_cells)\n",
    "                if potencial_cell in free_cells:\n",
    "                    cell = potencial_cell\n",
    "                    current_cell = reflect_cell(cell)\n",
    "                current_cell = reflect_cell(cell)\n",
    "    else:\n",
    "        cell = random.choice(free_cells)\n",
    "    return cell"
   ]
  },
  {
   "cell_type": "code",
   "execution_count": null,
   "metadata": {},
   "outputs": [],
   "source": [
    "def is_winner():\n",
    "    '''Win rules: horizontal, vertical,\n",
    "    or diaginal row of one player\n",
    "    '''\n",
    "    rows = [board[0],board[1],board[2]]\n",
    "    \n",
    "    columns = [\n",
    "        [board[0][0], board[1][0], board[2][0]],\n",
    "        [board[0][1], board[1][1], board[2][1]],\n",
    "        [board[0][2], board[1][2], board[2][2]]]\n",
    "    \n",
    "    diagonals = [[board[0][0], board[1][1], board[2][2]],\n",
    "                 [board[0][2], board[1][1], board[2][0]]]\n",
    "    \n",
    "    rows_win = check_rows(rows)\n",
    "    columns_win = check_rows(columns)\n",
    "    diagonals_win = check_rows(diagonals)\n",
    "    \n",
    "    return (rows_win or columns_win or diagonals_win)"
   ]
  },
  {
   "cell_type": "code",
   "execution_count": null,
   "metadata": {},
   "outputs": [],
   "source": [
    "def show_error():\n",
    "    clear_background('red')\n",
    "    write(\"Error!\", True, align=\"center\", font=(\"Arial\", 36, \"normal\"))"
   ]
  },
  {
   "cell_type": "code",
   "execution_count": null,
   "metadata": {},
   "outputs": [],
   "source": [
    "def record_move(player, pos_x, pos_y):\n",
    "    'records positions of players'\n",
    "    if not board[pos_x][pos_y]:\n",
    "        if player == 'x':\n",
    "            board[pos_x][pos_y].append(1)\n",
    "        else:\n",
    "            board[pos_x][pos_y].append(0)\n",
    "    else: show_error()"
   ]
  },
  {
   "cell_type": "code",
   "execution_count": null,
   "metadata": {},
   "outputs": [],
   "source": [
    "def choose_mode():\n",
    "    mode = input('Please choose game difficulty. For easy game press 1. For difficult game press 0. ')\n",
    "    is_correct_input = False\n",
    "    \n",
    "    while not is_correct_input:\n",
    "        try: \n",
    "            mode = int(mode)\n",
    "            print(mode)\n",
    "            if mode == 0 or mode == 1:\n",
    "                is_correct_input = True\n",
    "            else: mode = input('Please enter 0 or 1. ')\n",
    "        except:\n",
    "            mode = input('Please enter a number: 1 or 0. ')\n",
    "    return bool(mode)"
   ]
  },
  {
   "cell_type": "code",
   "execution_count": null,
   "metadata": {},
   "outputs": [],
   "source": [
    "def draw_greed(position):\n",
    "    setup(600,600)\n",
    "    hideturtle()\n",
    "    speed(7)\n",
    "    pensize(10)\n",
    "    bgcolor('#E1FFB2')\n",
    "    pencolor('white')\n",
    "\n",
    "    for x,y,a in position:\n",
    "        penup()\n",
    "        setposition(x, y)\n",
    "        setheading(a)\n",
    "        pendown()\n",
    "        forward(600)\n",
    "    penup()"
   ]
  },
  {
   "cell_type": "code",
   "execution_count": null,
   "metadata": {},
   "outputs": [],
   "source": [
    "def draw_o(col,row):\n",
    "    x = col * 200 - 280 \n",
    "    y = 200 - row * 200\n",
    "    setheading(270)\n",
    "    setposition(x, y)\n",
    "    pendown()\n",
    "    circle(80)\n",
    "    penup()"
   ]
  },
  {
   "cell_type": "code",
   "execution_count": null,
   "metadata": {},
   "outputs": [],
   "source": [
    "def draw_x(col,row):\n",
    "    x = col*200 - 300\n",
    "    y = 300 - row*200\n",
    "    setposition(x, y)\n",
    "    setheading(315)\n",
    "    pendown()\n",
    "    forward(280)\n",
    "    penup()\n",
    "    setposition(x + 200, y)\n",
    "    setheading(225)\n",
    "    pendown()\n",
    "    forward(280)\n",
    "    penup()\n",
    "    record_move('x', int(col), int(row))\n",
    "    x_cells.append([int(col), int(row)])\n",
    "    free_cells.remove([int(col),int(row)])"
   ]
  },
  {
   "cell_type": "code",
   "execution_count": null,
   "metadata": {},
   "outputs": [],
   "source": [
    "def clear_background(color):\n",
    "    speed(0)\n",
    "    clearscreen()\n",
    "    hideturtle()\n",
    "    bgcolor(color)\n",
    "    pencolor('white')\n",
    "    setposition(0,0)"
   ]
  },
  {
   "cell_type": "code",
   "execution_count": null,
   "metadata": {},
   "outputs": [],
   "source": [
    "def play_easy(x, y):\n",
    "    '''easy mode play rules'''\n",
    "    column = (x + 300) // 200\n",
    "    row = (-y + 300) // 200\n",
    "\n",
    "    draw_x(column, row)\n",
    "\n",
    "    if not is_winner() and not are_no_cells():          \n",
    "        pos_x, pos_y = make_o_turn(free_cells)    \n",
    "        record_move('o', int(pos_x), int(pos_y))\n",
    "        free_cells.remove([pos_x,pos_y])\n",
    "        ontimer(draw_o(pos_x, pos_y), t=500)\n",
    "            \n",
    "        if is_winner():\n",
    "            clear_background('#FFA131')\n",
    "            write(\"We have winner: o!\", True, align=\"center\", font=(\"Arial\", 36, \"normal\"))\n",
    "        if are_no_cells(): \n",
    "            clear_background('#FFA131')\n",
    "            write(\"A draw!\", True, align=\"center\", font=(\"Arial\", 36, \"normal\"))\n",
    "    else:\n",
    "        clear_background('#FFA131')        \n",
    "        \n",
    "        if is_winner():\n",
    "            write(\"We have winner: x!\", True, align=\"center\", font=(\"Arial\", 36, \"normal\"))\n",
    "        else: write(\"A draw!\", True, align=\"center\", font=(\"Arial\", 36, \"normal\"))"
   ]
  },
  {
   "cell_type": "code",
   "execution_count": null,
   "metadata": {},
   "outputs": [],
   "source": [
    "def play_hard(x, y):\n",
    "    '''hard mode play rules'''\n",
    "    global turns    \n",
    "    turns += 1\n",
    "    \n",
    "    column = (x + 300) // 200\n",
    "    row = (-y + 300) // 200\n",
    "\n",
    "    draw_x(column, row)\n",
    "\n",
    "    if not is_winner() and not are_no_cells():          \n",
    "        pos_x, pos_y = make_move_computer_player(turns)\n",
    "            \n",
    "        record_move('o', int(pos_x), int(pos_y))\n",
    "        free_cells.remove([pos_x,pos_y])\n",
    "        ontimer(draw_o(pos_x, pos_y), t=500)\n",
    "            \n",
    "        if is_winner():\n",
    "            clear_background('#FFA131')\n",
    "            write(\"We have winner: o!\", True, align=\"center\", font=(\"Arial\", 36, \"normal\"))\n",
    "        elif are_no_cells(): \n",
    "            clear_background('#FFA131')\n",
    "            write(\"A draw!\", True, align=\"center\", font=(\"Arial\", 36, \"normal\"))\n",
    "    else:\n",
    "        clear_background('#FFA131')        \n",
    "        if is_winner():\n",
    "            write(\"We have winner: x!\", True, align=\"center\", font=(\"Arial\", 36, \"normal\"))\n",
    "        else: \n",
    "            write(\"A draw!\", True, align=\"center\", font=(\"Arial\", 36, \"normal\"))"
   ]
  },
  {
   "cell_type": "code",
   "execution_count": null,
   "metadata": {},
   "outputs": [],
   "source": [
    "def init():    \n",
    "    easy_mode = choose_mode()\n",
    "    draw_greed([[-300, 100, 0], [300, -100, 180], [-100, -300, 90], [100, 300, 270]])\n",
    "    \n",
    "    \n",
    "    if easy_mode:\n",
    "        onscreenclick(play_easy)\n",
    "        mainloop()\n",
    "    \n",
    "    else:\n",
    "        record_move('o', 1, 1)\n",
    "        free_cells.remove([1, 1])\n",
    "        draw_o(1, 1)\n",
    "        onscreenclick(play_hard)\n",
    "        mainloop()"
   ]
  },
  {
   "cell_type": "code",
   "execution_count": null,
   "metadata": {},
   "outputs": [],
   "source": [
    "# Execute this cell to run the game\n",
    "\n",
    "turns = 0\n",
    "board = [\n",
    "    [[],[],[]],\n",
    "    [[],[],[]],\n",
    "    [[],[],[]],\n",
    "]\n",
    "\n",
    "free_cells = [[0,0],[0,1],[0,2],[1,0],[1,1],[1,2],[2,0],[2,1],[2,2]]\n",
    "\n",
    "x_cells = []\n",
    "current_cell = [1,1]\n",
    "\n",
    "init()"
   ]
  }
 ],
 "metadata": {
  "kernelspec": {
   "display_name": "Python 3",
   "language": "python",
   "name": "python3"
  },
  "language_info": {
   "codemirror_mode": {
    "name": "ipython",
    "version": 3
   },
   "file_extension": ".py",
   "mimetype": "text/x-python",
   "name": "python",
   "nbconvert_exporter": "python",
   "pygments_lexer": "ipython3",
   "version": "3.8.5"
  }
 },
 "nbformat": 4,
 "nbformat_minor": 4
}
